{
 "cells": [
  {
   "cell_type": "code",
   "execution_count": 1,
   "id": "84fb5337",
   "metadata": {},
   "outputs": [],
   "source": [
    "import numpy as np\n",
    "import matplotlib.pyplot as plt\n",
    "import pandas as pd"
   ]
  },
  {
   "cell_type": "code",
   "execution_count": 9,
   "id": "fa518985",
   "metadata": {},
   "outputs": [],
   "source": [
    "k = 2\n",
    "n = 2\n",
    "h = 0.01"
   ]
  },
  {
   "cell_type": "code",
   "execution_count": 3,
   "id": "cbc565b1",
   "metadata": {},
   "outputs": [],
   "source": [
    "α = 1 + 0.2*k"
   ]
  },
  {
   "cell_type": "code",
   "execution_count": 18,
   "id": "8ca3367a",
   "metadata": {},
   "outputs": [],
   "source": [
    "y_0 = 1/α\n",
    "z_0 = 1\n",
    "x_0 = 0"
   ]
  },
  {
   "cell_type": "code",
   "execution_count": 8,
   "id": "dc06a0e8",
   "metadata": {},
   "outputs": [],
   "source": [
    "def y_prim(x, y, z):\n",
    "    return -2*α*x*y**2 + z**2 - x**2 - 1\n",
    "\n",
    "def z_prim(x, y, z):\n",
    "    return 1/(α*z**2) - y - x/z"
   ]
  },
  {
   "cell_type": "code",
   "execution_count": 44,
   "id": "95de4230",
   "metadata": {},
   "outputs": [],
   "source": [
    "precision = 5\n",
    "result = {}\n",
    "\n",
    "result['x'] = []\n",
    "result['y'] = []\n",
    "result['z'] = []\n",
    "result['k'] = []\n",
    "result['l'] = []\n",
    "result['Δy'] = []\n",
    "result['Δz'] = []\n",
    "\n",
    "x_i = float('{:.precisionf}'.format(x_0))\n",
    "y_i = float('{:.4f}'.format(y_0))\n",
    "z_i = float('{:.4f}'.format(z_0))\n",
    "\n",
    "for i in range(n+1):   \n",
    "    k_1 = float('{:.4f}'.format(h*y_prim(x_i, y_i, z_i)))\n",
    "    l_1 = float('{:.4f}'.format(h*z_prim(x_i, y_i, z_i)))\n",
    "    k_2 = float('{:.4f}'.format(h*y_prim(x_i + h/2, y_i + k_1/2, z_i + l_1/2)))\n",
    "    l_2 = float('{:.4f}'.format(h*z_prim(x_i + h/2, y_i + k_1/2, z_i + l_1/2)))\n",
    "    k_3 = float('{:.4f}'.format(h*y_prim(x_i + h/2, y_i + k_2/2, z_i + l_2/2)))\n",
    "    l_3 = float('{:.4f}'.format(h*z_prim(x_i + h/2, y_i + k_2/2, z_i + l_2/2)))\n",
    "    k_4 = float('{:.4f}'.format(h*y_prim(x_i + h, y_i + k_3, z_i + l_3)))\n",
    "    l_4 = float('{:.4f}'.format(h*z_prim(x_i + h, y_i + k_3, z_i + l_3)))\n",
    "    \n",
    "    \n",
    "    Δy = float('{:.4f}'.format(1/6*(k_1+2*k_2+2*k_3+k_4)))\n",
    "    Δz = float('{:.4f}'.format(1/6*(l_1+2*l_2+2*l_3+l_4)))\n",
    "\n",
    "    result['x'].append([x_i, x_i + h/2, x_i + h/2, x_i + h, None])\n",
    "    result['y'].append([y_i, y_i + k_1/2, y_i + k_2/2, y_i + k_3, None])\n",
    "    result['z'].append([z_i, z_i + l_1/2, z_i + l_2/2, z_i + l_3, None])\n",
    "    result['k'].append([k_1, k_2, k_3, k_4, None])\n",
    "    result['l'].append([l_1, l_2, l_3, l_4, None])\n",
    "    result['Δy'].append([k_1, 2*k_2, 2*k_3, k_4, Δy])\n",
    "    result['Δz'].append([l_1, 2*l_2, 2*l_3, l_4, Δz])\n",
    "    x_i = float('{:.4f}'.format(x_i + i*h))\n",
    "    y_i = float('{:.4f}'.format(y_i + Δy))\n",
    "    z_i = float('{:.4f}'.format(z_i + Δz))\n",
    "    "
   ]
  },
  {
   "cell_type": "code",
   "execution_count": 45,
   "id": "4c63fb10",
   "metadata": {},
   "outputs": [],
   "source": [
    "answer = pd.DataFrame(result)"
   ]
  },
  {
   "cell_type": "code",
   "execution_count": 46,
   "id": "2bd8475c",
   "metadata": {},
   "outputs": [
    {
     "data": {
      "text/html": [
       "<div>\n",
       "<style scoped>\n",
       "    .dataframe tbody tr th:only-of-type {\n",
       "        vertical-align: middle;\n",
       "    }\n",
       "\n",
       "    .dataframe tbody tr th {\n",
       "        vertical-align: top;\n",
       "    }\n",
       "\n",
       "    .dataframe thead th {\n",
       "        text-align: right;\n",
       "    }\n",
       "</style>\n",
       "<table border=\"1\" class=\"dataframe\">\n",
       "  <thead>\n",
       "    <tr style=\"text-align: right;\">\n",
       "      <th></th>\n",
       "      <th>x</th>\n",
       "      <th>y</th>\n",
       "      <th>z</th>\n",
       "      <th>k</th>\n",
       "      <th>l</th>\n",
       "      <th>Δy</th>\n",
       "      <th>Δz</th>\n",
       "    </tr>\n",
       "  </thead>\n",
       "  <tbody>\n",
       "    <tr>\n",
       "      <th>0</th>\n",
       "      <td>[0.0, 0.005, 0.005, 0.01, None]</td>\n",
       "      <td>[0.7143, 0.7143, 0.71425, 0.7142000000000001, ...</td>\n",
       "      <td>[1.0, 1.0, 0.99995, 1.0, None]</td>\n",
       "      <td>[0.0, -0.0001, -0.0001, -0.0001, None]</td>\n",
       "      <td>[-0.0, -0.0001, -0.0, -0.0001, None]</td>\n",
       "      <td>[0.0, -0.0002, -0.0002, -0.0001, -0.0001]</td>\n",
       "      <td>[-0.0, -0.0002, -0.0, -0.0001, -0.0001]</td>\n",
       "    </tr>\n",
       "    <tr>\n",
       "      <th>1</th>\n",
       "      <td>[0.0, 0.005, 0.005, 0.01, None]</td>\n",
       "      <td>[0.7142, 0.7142, 0.71415, 0.7141, None]</td>\n",
       "      <td>[0.9999, 0.9999, 0.9999, 0.9999, None]</td>\n",
       "      <td>[-0.0, -0.0001, -0.0001, -0.0001, None]</td>\n",
       "      <td>[0.0, -0.0, -0.0, -0.0001, None]</td>\n",
       "      <td>[-0.0, -0.0002, -0.0002, -0.0001, -0.0001]</td>\n",
       "      <td>[0.0, -0.0, -0.0, -0.0001, -0.0]</td>\n",
       "    </tr>\n",
       "    <tr>\n",
       "      <th>2</th>\n",
       "      <td>[0.01, 0.015, 0.015, 0.02, None]</td>\n",
       "      <td>[0.7141, 0.71405, 0.714, 0.7139, None]</td>\n",
       "      <td>[0.9999, 0.99985, 0.99985, 0.9998, None]</td>\n",
       "      <td>[-0.0001, -0.0002, -0.0002, -0.0003, None]</td>\n",
       "      <td>[-0.0001, -0.0001, -0.0001, -0.0002, None]</td>\n",
       "      <td>[-0.0001, -0.0004, -0.0004, -0.0003, -0.0002]</td>\n",
       "      <td>[-0.0001, -0.0002, -0.0002, -0.0002, -0.0001]</td>\n",
       "    </tr>\n",
       "  </tbody>\n",
       "</table>\n",
       "</div>"
      ],
      "text/plain": [
       "                                  x  \\\n",
       "0   [0.0, 0.005, 0.005, 0.01, None]   \n",
       "1   [0.0, 0.005, 0.005, 0.01, None]   \n",
       "2  [0.01, 0.015, 0.015, 0.02, None]   \n",
       "\n",
       "                                                   y  \\\n",
       "0  [0.7143, 0.7143, 0.71425, 0.7142000000000001, ...   \n",
       "1            [0.7142, 0.7142, 0.71415, 0.7141, None]   \n",
       "2             [0.7141, 0.71405, 0.714, 0.7139, None]   \n",
       "\n",
       "                                          z  \\\n",
       "0            [1.0, 1.0, 0.99995, 1.0, None]   \n",
       "1    [0.9999, 0.9999, 0.9999, 0.9999, None]   \n",
       "2  [0.9999, 0.99985, 0.99985, 0.9998, None]   \n",
       "\n",
       "                                            k  \\\n",
       "0      [0.0, -0.0001, -0.0001, -0.0001, None]   \n",
       "1     [-0.0, -0.0001, -0.0001, -0.0001, None]   \n",
       "2  [-0.0001, -0.0002, -0.0002, -0.0003, None]   \n",
       "\n",
       "                                            l  \\\n",
       "0        [-0.0, -0.0001, -0.0, -0.0001, None]   \n",
       "1            [0.0, -0.0, -0.0, -0.0001, None]   \n",
       "2  [-0.0001, -0.0001, -0.0001, -0.0002, None]   \n",
       "\n",
       "                                              Δy  \\\n",
       "0      [0.0, -0.0002, -0.0002, -0.0001, -0.0001]   \n",
       "1     [-0.0, -0.0002, -0.0002, -0.0001, -0.0001]   \n",
       "2  [-0.0001, -0.0004, -0.0004, -0.0003, -0.0002]   \n",
       "\n",
       "                                              Δz  \n",
       "0        [-0.0, -0.0002, -0.0, -0.0001, -0.0001]  \n",
       "1               [0.0, -0.0, -0.0, -0.0001, -0.0]  \n",
       "2  [-0.0001, -0.0002, -0.0002, -0.0002, -0.0001]  "
      ]
     },
     "execution_count": 46,
     "metadata": {},
     "output_type": "execute_result"
    }
   ],
   "source": [
    "answer"
   ]
  },
  {
   "cell_type": "code",
   "execution_count": null,
   "id": "864a4392",
   "metadata": {},
   "outputs": [],
   "source": []
  }
 ],
 "metadata": {
  "kernelspec": {
   "display_name": "Python 3",
   "language": "python",
   "name": "python3"
  },
  "language_info": {
   "codemirror_mode": {
    "name": "ipython",
    "version": 3
   },
   "file_extension": ".py",
   "mimetype": "text/x-python",
   "name": "python",
   "nbconvert_exporter": "python",
   "pygments_lexer": "ipython3",
   "version": "3.8.8"
  }
 },
 "nbformat": 4,
 "nbformat_minor": 5
}
