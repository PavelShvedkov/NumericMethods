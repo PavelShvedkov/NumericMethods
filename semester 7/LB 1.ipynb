{
 "cells": [
  {
   "cell_type": "code",
   "execution_count": 1,
   "id": "7a675ed3",
   "metadata": {},
   "outputs": [],
   "source": [
    "import numpy as np\n",
    "import matplotlib.pyplot as plt"
   ]
  },
  {
   "cell_type": "markdown",
   "id": "f2a57943",
   "metadata": {},
   "source": [
    "$$y' = e^{x+y} - 1;$$\n",
    "$$y(0) = 0$$\n",
    "Шаг $h = \\frac{1}{2} 10^{-1}$\n",
    "Найти $y(\\sqrt{\\pi} + \\frac{1}{2})$"
   ]
  },
  {
   "cell_type": "code",
   "execution_count": 2,
   "id": "98081350",
   "metadata": {},
   "outputs": [],
   "source": [
    "h = 0.05\n",
    "ϵ = 10e-4"
   ]
  },
  {
   "cell_type": "code",
   "execution_count": 3,
   "id": "73e1da01",
   "metadata": {},
   "outputs": [],
   "source": [
    "def f(x, y):\n",
    "    return np.exp(x+y) - 1"
   ]
  },
  {
   "cell_type": "code",
   "execution_count": 4,
   "id": "a7b1de09",
   "metadata": {},
   "outputs": [],
   "source": [
    "def split(x0, y0, h, f):\n",
    "    y1 = y0 + h*f(x0, y0)\n",
    "    y1_wave = y0 + h/2*f(x0, y0)\n",
    "    y2_wave = y1_wave + h/2*f(x0 + h/2, y1_wave)\n",
    "    \n",
    "    if np.abs(y1 - y2_wave) <= ϵ:\n",
    "        #y0 = y1\n",
    "        #x0 = x0 + h\n",
    "        print(f'x = {x0 + h}; y = {y1}')\n",
    "        \n",
    "    else:\n",
    "        split(x0, y0, h/2, f)\n",
    "    return x0 + h, y1"
   ]
  },
  {
   "cell_type": "code",
   "execution_count": 5,
   "id": "abab92f5",
   "metadata": {},
   "outputs": [],
   "source": [
    "def g(x, y):\n",
    "    return y/x + np.sqrt(x**2 - y**2)"
   ]
  },
  {
   "cell_type": "code",
   "execution_count": 6,
   "id": "289d34ce",
   "metadata": {},
   "outputs": [
    {
     "name": "stdout",
     "output_type": "stream",
     "text": [
      "x = 1.872453850905516; y = 1.872453850905516\n",
      "x = 1.972453850905516; y = 1.972453850905516\n",
      "x = 2.072453850905516; y = 2.072453850905516\n",
      "x = 2.1724538509055162; y = 2.1724538509055162\n",
      "x = 2.2724538509055163; y = 2.2724538509055163\n"
     ]
    },
    {
     "data": {
      "text/plain": [
       "[<matplotlib.lines.Line2D at 0x7ff6230af790>]"
      ]
     },
     "execution_count": 6,
     "metadata": {},
     "output_type": "execute_result"
    },
    {
     "data": {
      "image/png": "[encoded data removed]",
      "text/plain": [
       "<Figure size 432x288 with 1 Axes>"
      ]
     },
     "metadata": {
      "needs_background": "light"
     },
     "output_type": "display_data"
    }
   ],
   "source": [
    "x0 = np.sqrt(np.pi)\n",
    "y0 = np.sqrt(np.pi)\n",
    "x = []\n",
    "y = []\n",
    "h = 0.1\n",
    "X = np.sqrt(np.pi) + 1/2\n",
    "\n",
    "while(x0 < X):\n",
    "    x0, y0 = split(x0, y0, h, g)\n",
    "    x.append(x0)\n",
    "    y.append(y0)\n",
    "    \n",
    "plt.plot(x, y)"
   ]
  },
  {
   "cell_type": "code",
   "execution_count": 7,
   "id": "b138f671",
   "metadata": {},
   "outputs": [
    {
     "ename": "NameError",
     "evalue": "name 'x_n' is not defined",
     "output_type": "error",
     "traceback": [
      "\u001b[0;31m---------------------------------------------------------------------------\u001b[0m",
      "\u001b[0;31mNameError\u001b[0m                                 Traceback (most recent call last)",
      "\u001b[0;32m<ipython-input-7-5ba5756ab6d5>\u001b[0m in \u001b[0;36m<module>\u001b[0;34m\u001b[0m\n\u001b[1;32m      4\u001b[0m \u001b[0my\u001b[0m \u001b[0;34m=\u001b[0m \u001b[0;34m[\u001b[0m\u001b[0;34m]\u001b[0m\u001b[0;34m\u001b[0m\u001b[0;34m\u001b[0m\u001b[0m\n\u001b[1;32m      5\u001b[0m \u001b[0;34m\u001b[0m\u001b[0m\n\u001b[0;32m----> 6\u001b[0;31m \u001b[0;32mwhile\u001b[0m\u001b[0;34m(\u001b[0m\u001b[0mx0\u001b[0m \u001b[0;34m<\u001b[0m \u001b[0mx_n\u001b[0m\u001b[0;34m)\u001b[0m\u001b[0;34m:\u001b[0m\u001b[0;34m\u001b[0m\u001b[0;34m\u001b[0m\u001b[0m\n\u001b[0m\u001b[1;32m      7\u001b[0m     \u001b[0mx0\u001b[0m\u001b[0;34m,\u001b[0m \u001b[0my0\u001b[0m \u001b[0;34m=\u001b[0m \u001b[0msplit\u001b[0m\u001b[0;34m(\u001b[0m\u001b[0mx0\u001b[0m\u001b[0;34m,\u001b[0m \u001b[0my0\u001b[0m\u001b[0;34m,\u001b[0m \u001b[0mh\u001b[0m\u001b[0;34m,\u001b[0m \u001b[0mf\u001b[0m\u001b[0;34m)\u001b[0m\u001b[0;34m\u001b[0m\u001b[0;34m\u001b[0m\u001b[0m\n\u001b[1;32m      8\u001b[0m     \u001b[0mx\u001b[0m\u001b[0;34m.\u001b[0m\u001b[0mappend\u001b[0m\u001b[0;34m(\u001b[0m\u001b[0mx0\u001b[0m\u001b[0;34m)\u001b[0m\u001b[0;34m\u001b[0m\u001b[0;34m\u001b[0m\u001b[0m\n",
      "\u001b[0;31mNameError\u001b[0m: name 'x_n' is not defined"
     ]
    }
   ],
   "source": [
    "x0 = 0\n",
    "y0 = 0\n",
    "x = []\n",
    "y = []\n",
    "\n",
    "while(x0 < x_n):\n",
    "    x0, y0 = split(x0, y0, h, f)\n",
    "    x.append(x0)\n",
    "    y.append(y0)\n",
    "    \n",
    "plt.plot(x, y)"
   ]
  },
  {
   "cell_type": "code",
   "execution_count": null,
   "id": "01f7ff17",
   "metadata": {},
   "outputs": [],
   "source": []
  }
 ],
 "metadata": {
  "kernelspec": {
   "display_name": "Python 3",
   "language": "python",
   "name": "python3"
  },
  "language_info": {
   "codemirror_mode": {
    "name": "ipython",
    "version": 3
   },
   "file_extension": ".py",
   "mimetype": "text/x-python",
   "name": "python",
   "nbconvert_exporter": "python",
   "pygments_lexer": "ipython3",
   "version": "3.8.8"
  }
 },
 "nbformat": 4,
 "nbformat_minor": 5
}
